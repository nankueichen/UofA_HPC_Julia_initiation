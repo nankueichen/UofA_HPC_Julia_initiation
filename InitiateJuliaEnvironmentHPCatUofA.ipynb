{
 "cells": [
  {
   "cell_type": "markdown",
   "metadata": {},
   "source": [
    "# Initiating Julia and Jupyter notebook environment in HPC"
   ]
  },
  {
   "cell_type": "code",
   "execution_count": 8,
   "metadata": {},
   "outputs": [],
   "source": [
    "module load julia"
   ]
  },
  {
   "cell_type": "code",
   "execution_count": 9,
   "metadata": {},
   "outputs": [
    {
     "name": "stdout",
     "output_type": "stream",
     "text": [
      "INFO: Package GZip is already installed\n",
      "INFO: METADATA is out-of-date — you may not have the latest version of GZip\n",
      "INFO: Use `Pkg.update()` to get the latest versions of your packages\n",
      "INFO: Package PyCall is already installed\n",
      "INFO: METADATA is out-of-date — you may not have the latest version of PyCall\n",
      "INFO: Use `Pkg.update()` to get the latest versions of your packages\n",
      "INFO: Building Conda\n",
      "INFO: Building PyCall\n",
      "INFO: PyCall is using /cm/shared/uaapps/python/3.5.2/bin/python3 (Python 3.5.2) at /cm/shared/uaapps/python/3.5.2/bin/python3, libpython = /cm/shared/uaapps/python/3.5.2/lib/libpython3.5m\n",
      "INFO: /home/u2/nkchen/.julia/v0.6/PyCall/deps/deps.jl has not changed\n",
      "INFO: /home/u2/nkchen/.julia/v0.6/PyCall/deps/PYTHON has not changed\n",
      "INFO: Package PyPlot is already installed\n",
      "INFO: METADATA is out-of-date — you may not have the latest version of PyPlot\n",
      "INFO: Use `Pkg.update()` to get the latest versions of your packages\n",
      "INFO: Building Conda\n",
      "INFO: Building PyCall\n",
      "INFO: PyCall is using /cm/shared/uaapps/python/3.5.2/bin/python3 (Python 3.5.2) at /cm/shared/uaapps/python/3.5.2/bin/python3, libpython = /cm/shared/uaapps/python/3.5.2/lib/libpython3.5m\n",
      "INFO: /home/u2/nkchen/.julia/v0.6/PyCall/deps/deps.jl has not changed\n",
      "INFO: /home/u2/nkchen/.julia/v0.6/PyCall/deps/PYTHON has not changed\n",
      "WARNING: No working GUI backend found for matplotlib\n",
      "INFO: Package IJulia is already installed\n",
      "INFO: METADATA is out-of-date — you may not have the latest version of IJulia\n",
      "INFO: Use `Pkg.update()` to get the latest versions of your packages\n",
      "INFO: Building Conda\n",
      "INFO: Building MbedTLS\n",
      "Using system libraries...\n",
      "INFO: Building ZMQ\n",
      "INFO: Building IJulia\n",
      "INFO: Installing Jupyter via the Conda package.\n",
      "Fetching package metadata ...........\n",
      "Solving package specifications: .\n",
      "\n",
      "# All requested packages already installed.\n",
      "# packages in environment at /home/u2/nkchen/.julia/v0.6/Conda/deps/usr:\n",
      "#\n",
      "jupyter                   1.0.0            py27h505fd4b_0  \n",
      "INFO: Found Jupyter version 4.4.0: /home/u2/nkchen/.julia/v0.6/Conda/deps/usr/bin/jupyter\n",
      "  % Total    % Received % Xferd  Average Speed   Time    Time     Time  Current\n",
      "                                 Dload  Upload   Total   Spent    Left  Speed\n",
      "100 12309  100 12309    0     0  44482      0 --:--:-- --:--:-- --:--:--  135k\n",
      "INFO: Installing Julia kernelspec julia-0.6\n",
      "[InstallKernelSpec] Removing existing kernelspec in /home/u2/nkchen/.local/share/jupyter/kernels/julia-0.6\n",
      "[InstallKernelSpec] Installed kernelspec julia-0.6 in /home/u2/nkchen/.local/share/jupyter/kernels/julia-0.6\n"
     ]
    }
   ],
   "source": [
    "julia file1.jl"
   ]
  },
  {
   "cell_type": "code",
   "execution_count": null,
   "metadata": {},
   "outputs": [],
   "source": []
  }
 ],
 "metadata": {
  "kernelspec": {
   "display_name": "Bash",
   "language": "bash",
   "name": "bash"
  },
  "language_info": {
   "codemirror_mode": "shell",
   "file_extension": ".sh",
   "mimetype": "text/x-sh",
   "name": "bash"
  }
 },
 "nbformat": 4,
 "nbformat_minor": 2
}
